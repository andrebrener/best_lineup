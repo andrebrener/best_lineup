{
 "cells": [
  {
   "cell_type": "markdown",
   "metadata": {},
   "source": [
    "## Import Dependencies"
   ]
  },
  {
   "cell_type": "code",
   "execution_count": null,
   "metadata": {},
   "outputs": [],
   "source": [
    "import pandas as pd\n",
    "import random\n",
    "import math"
   ]
  },
  {
   "cell_type": "code",
   "execution_count": null,
   "metadata": {},
   "outputs": [],
   "source": [
    "df = pd.read_csv('CompleteDataset.csv').fillna(0)"
   ]
  },
  {
   "cell_type": "markdown",
   "metadata": {},
   "source": [
    "## Build dataset"
   ]
  },
  {
   "cell_type": "markdown",
   "metadata": {},
   "source": [
    "#### Take a look at the initial dataset"
   ]
  },
  {
   "cell_type": "code",
   "execution_count": null,
   "metadata": {},
   "outputs": [],
   "source": [
    "df.head()"
   ]
  },
  {
   "cell_type": "markdown",
   "metadata": {},
   "source": [
    "#### Get Arg Squad"
   ]
  },
  {
   "cell_type": "code",
   "execution_count": null,
   "metadata": {},
   "outputs": [],
   "source": [
    "squad = ['N. Otamendi', 'G. Mercado', 'F. Fazio', 'M. Acuña', 'N. Tagliafico', 'M. Rojo', 'C. Ansaldi',\n",
    "        'J. Mascherano', 'L. Biglia', 'E. Pérez', 'E. Banega', 'A. Di María', 'E. Salvio', 'G. Lo Celso', 'M. Meza',\n",
    "        'L. Messi', 'S. Agüero', 'G. Higuaín', 'P. Dybala', 'C. Pavón']"
   ]
  },
  {
   "cell_type": "code",
   "execution_count": null,
   "metadata": {},
   "outputs": [],
   "source": [
    "arg_squad_df = df[(df['Name'].isin(squad)) & (df['Nationality'] == 'Argentina')].copy()"
   ]
  },
  {
   "cell_type": "code",
   "execution_count": null,
   "metadata": {},
   "outputs": [],
   "source": [
    "if len(squad) == arg_squad_df.shape[0]:\n",
    "    print(\"They are all here\")\n",
    "else:\n",
    "    print(\"There are some missing\")"
   ]
  },
  {
   "cell_type": "markdown",
   "metadata": {},
   "source": [
    "#### Insert positions"
   ]
  },
  {
   "cell_type": "code",
   "execution_count": null,
   "metadata": {},
   "outputs": [],
   "source": [
    "arg_squad_df['pref_pos'] = arg_squad_df['Preferred Positions'].str.split()"
   ]
  },
  {
   "cell_type": "code",
   "execution_count": null,
   "metadata": {},
   "outputs": [],
   "source": [
    "pos_dict = {\n",
    "    'fw': ['ST', 'LW', 'RW', 'SS'],\n",
    "    'mf': ['CM', 'CDM', 'CAM', 'RM', 'LM',],\n",
    "    'def': ['CB', 'RB', 'LB', 'RWB', 'LWB']\n",
    "}"
   ]
  },
  {
   "cell_type": "code",
   "execution_count": null,
   "metadata": {},
   "outputs": [],
   "source": [
    "def get_positions(pos_list, pos_dict_list):\n",
    "    for pos in pos_dict_list:\n",
    "        if pos in pos_list:\n",
    "            return 1"
   ]
  },
  {
   "cell_type": "code",
   "execution_count": null,
   "metadata": {},
   "outputs": [],
   "source": [
    "def insert_positions(df, pos_dict):\n",
    "    for pos, pos_dict_list in pos_dict.items():\n",
    "        df[pos] = df['pref_pos'].apply(lambda x: get_positions(x, pos_dict_list)).fillna(0)"
   ]
  },
  {
   "cell_type": "code",
   "execution_count": null,
   "metadata": {},
   "outputs": [],
   "source": [
    "insert_positions(arg_squad_df, pos_dict)"
   ]
  },
  {
   "cell_type": "code",
   "execution_count": null,
   "metadata": {},
   "outputs": [],
   "source": [
    "arg_squad_df[['Name', 'Preferred Positions', 'fw', 'mf', 'def']]"
   ]
  },
  {
   "cell_type": "markdown",
   "metadata": {},
   "source": [
    "#### Check for duplicates"
   ]
  },
  {
   "cell_type": "code",
   "execution_count": null,
   "metadata": {},
   "outputs": [],
   "source": [
    "arg_squad_df['ID'].value_counts().head()"
   ]
  },
  {
   "cell_type": "markdown",
   "metadata": {},
   "source": [
    "#### Get Players List"
   ]
  },
  {
   "cell_type": "code",
   "execution_count": null,
   "metadata": {},
   "outputs": [],
   "source": [
    "total_players = arg_squad_df['Name'].tolist()"
   ]
  },
  {
   "cell_type": "code",
   "execution_count": null,
   "metadata": {},
   "outputs": [],
   "source": [
    "total_players"
   ]
  },
  {
   "cell_type": "markdown",
   "metadata": {},
   "source": [
    "## Algorithm"
   ]
  },
  {
   "cell_type": "markdown",
   "metadata": {},
   "source": [
    "#### Formation"
   ]
  },
  {
   "cell_type": "code",
   "execution_count": null,
   "metadata": {},
   "outputs": [],
   "source": [
    "formation_dict = {\n",
    "    '442': ({'def': 4, 'mf': 4, 'fw': 2}, \n",
    "            ['CB_1', 'CB_2', 'RB', 'LB', 'CDM', 'CM', 'RM', 'LM', 'ST_1', 'ST_2']),\n",
    "    '451': ({'def': 4, 'mf': 4, 'fw': 2}, \n",
    "            ['CB_1', 'CB_2', 'RB', 'LB', 'CDM', 'CM', 'RW', 'LW', 'CAM', 'ST']),\n",
    "    '343': ({'def': 3, 'mf': 4, 'fw': 3},\n",
    "            ['CB_1', 'CB_2', 'CB_3', 'RM', 'LM', 'CDM', 'RW', 'LW', 'CM', 'ST']),\n",
    "}"
   ]
  },
  {
   "cell_type": "markdown",
   "metadata": {},
   "source": [
    "#### Build Formation"
   ]
  },
  {
   "cell_type": "code",
   "execution_count": null,
   "metadata": {},
   "outputs": [],
   "source": [
    "def get_pos(pos):\n",
    "    if '_' not in pos:\n",
    "        return pos\n",
    "    else:\n",
    "        i = pos.index('_')\n",
    "        return pos[:i]"
   ]
  },
  {
   "cell_type": "code",
   "execution_count": null,
   "metadata": {},
   "outputs": [],
   "source": [
    "def get_squad(squad_list, df, formation):\n",
    "    squad_dict = dict(zip(formation[1], squad_list))\n",
    "    energy = 0\n",
    "    for pos, player in squad_dict.items():\n",
    "        #print(pos, player)\n",
    "        player_df = df[df['Name'] == player]\n",
    "        energy += player_df[get_pos(pos)].tolist()[0]\n",
    "    return energy"
   ]
  },
  {
   "cell_type": "markdown",
   "metadata": {},
   "source": [
    "#### Model"
   ]
  },
  {
   "cell_type": "code",
   "execution_count": null,
   "metadata": {},
   "outputs": [],
   "source": [
    "def acceptance_probability(old_score, new_score, T):\n",
    "    return math.exp(- (old_score - new_score) / T)"
   ]
  },
  {
   "cell_type": "code",
   "execution_count": null,
   "metadata": {},
   "outputs": [],
   "source": [
    "def shuffle_squad(df, formation, pos_dict):\n",
    "    squad_dict = {}\n",
    "    for pos in pos_dict.keys():\n",
    "        players_for_position = df[df[pos] > 0]['Name'].tolist()\n",
    "        squad_dict[pos] = random.sample(players_for_position, formation[0][pos])\n",
    "    squad = squad_dict['def'] + squad_dict['mf'] + squad_dict['fw']\n",
    "    if len(squad) == len(set(squad)):\n",
    "        return squad\n",
    "    else:\n",
    "        return shuffle_squad(df, formation, pos_dict)"
   ]
  },
  {
   "cell_type": "code",
   "execution_count": null,
   "metadata": {},
   "outputs": [],
   "source": [
    "shuffle_squad(arg_squad_df, formation_dict['442'], pos_dict)"
   ]
  },
  {
   "cell_type": "code",
   "execution_count": null,
   "metadata": {},
   "outputs": [],
   "source": [
    "def anneal(df, formation, squad, pos_dict, max_iterations):\n",
    "    old_score = get_squad(squad, df, formation)\n",
    "    T = 1.0\n",
    "    T_min = 0.00001\n",
    "    alpha = 0.9\n",
    "    while T > T_min:\n",
    "        i = 1\n",
    "        while i <= max_iterations:\n",
    "            new_squad = shuffle_squad(df, formation, pos_dict)\n",
    "            new_score = get_squad(new_squad, df, formation)\n",
    "            ap = acceptance_probability(old_score, new_score, T)\n",
    "            if ap > random.random():\n",
    "                print(old_score, new_score)\n",
    "                squad = new_squad\n",
    "                old_score = new_score\n",
    "            i += 1\n",
    "        T = T * alpha\n",
    "    return squad, new_score"
   ]
  },
  {
   "cell_type": "code",
   "execution_count": null,
   "metadata": {},
   "outputs": [],
   "source": [
    "def get_best_squad(df, formations, pos_dict, max_iterations=1000):\n",
    "    result_dict = {}\n",
    "    for formation_name, formation in formations.items(): \n",
    "        print(\"Calculating squad for {}\".format(formation_name))\n",
    "        initial_guess = shuffle_squad(df, formation, pos_dict)\n",
    "        final_squad, final_score = anneal(df, formation, initial_guess, pos_dict, max_iterations)\n",
    "        final_squad_dict = dict(zip(formation[1], final_squad))\n",
    "        result_dict[formation_name] = final_squad_dict\n",
    "    return result_dict"
   ]
  },
  {
   "cell_type": "code",
   "execution_count": null,
   "metadata": {
    "scrolled": true
   },
   "outputs": [],
   "source": [
    "result_dict = get_best_squad(arg_squad_df, formation_dict, pos_dict)"
   ]
  },
  {
   "cell_type": "code",
   "execution_count": null,
   "metadata": {},
   "outputs": [],
   "source": [
    "for f, sq in result_dict.items():\n",
    "    print(f)\n",
    "    print(sq)"
   ]
  },
  {
   "cell_type": "code",
   "execution_count": null,
   "metadata": {},
   "outputs": [],
   "source": [
    "messi = arg_squad_df[arg_squad_df['Name'] == 'L. Messi']"
   ]
  },
  {
   "cell_type": "code",
   "execution_count": null,
   "metadata": {},
   "outputs": [],
   "source": [
    "for c in messi.columns:\n",
    "    print(c, messi[c].tolist()[0])"
   ]
  },
  {
   "cell_type": "code",
   "execution_count": null,
   "metadata": {},
   "outputs": [],
   "source": []
  }
 ],
 "metadata": {
  "kernelspec": {
   "display_name": "Python 3",
   "language": "python",
   "name": "python3"
  },
  "language_info": {
   "codemirror_mode": {
    "name": "ipython",
    "version": 3
   },
   "file_extension": ".py",
   "mimetype": "text/x-python",
   "name": "python",
   "nbconvert_exporter": "python",
   "pygments_lexer": "ipython3",
   "version": "3.6.5"
  }
 },
 "nbformat": 4,
 "nbformat_minor": 2
}
